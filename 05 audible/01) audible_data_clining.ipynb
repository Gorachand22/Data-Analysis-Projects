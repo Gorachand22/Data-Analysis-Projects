{
 "cells": [
  {
   "cell_type": "markdown",
   "metadata": {},
   "source": [
    "Audible is a popular audiobook and spoken-word entertainment service owned by Amazon. It offers a vast library of audiobooks, podcasts, and other audio content that users can purchase or subscribe to. Audible allows users to listen to books on various devices, such as smartphones, tablets, and computers, making it convenient for people to enjoy literature and other content while on the go or at home. It also provides features like offline listening, bookmarking, and speed adjustment for a personalized listening experience."
   ]
  },
  {
   "cell_type": "markdown",
   "metadata": {},
   "source": [
    "Understanding the data\n",
    "\n",
    "- `name` — The name of the audiobook.\n",
    "- `author` — The audiobook’s author.\n",
    "- `narrator` — The audiobook’s narrator.\n",
    "- `time`— The audiobook’s duration, in hours and minutes.\n",
    "- `releasedate` — The date the audiobook was published.\n",
    "- `language `— The audiobook’s language.\n",
    "- `stars` — The average number of stars (out of 5) and the number of ratings (if available).\n",
    "- `price` — The audiobook’s price in INR (Indian Rupee)."
   ]
  },
  {
   "cell_type": "markdown",
   "metadata": {},
   "source": [
    "## Problem with the dataset:\n",
    "### `Dirty Data`\n",
    "- `name`:\n",
    "    - Some books has the version in different formats. e.g.\n",
    "        - â€™, Ã¤, Ã¼ values `validity`\n",
    "        - é«˜æ©‹å¾¡å±±äººã®ç™¾ç¤¾å·¡ç¤¼ï¼å…¶ä¹‹äº”æ‹¾å£±ã€€æ»‹è³€ãƒ»æ°¸æºå¯ºã€€æœ¨åœ°å¸«ã‚’æŸã­ã‚‹ã€Œãƒ•ãƒªãƒ¼ãƒ¡ãƒ¼ã‚½ãƒ³ã€ `validity`\n",
    "        - Duplicate name found `validity`\n",
    "\n",
    "\n",
    "- `author` & `narrator`:\n",
    "    - Every value starts with \"Writtenby:\" e.g., \"Writtenby:GeronimoStilton\" `accuracy`\n",
    "    - Some values also have the strange part, e.g., \"Writtenby:FranciscoDÃ­azValladares\" `validity`\n",
    "    - First name and the last are not separated with a white space, e.g. \"Writtenby:NicolasGorny\". `accuracy`\n",
    "    - Some additional informations are also inclused in some values. E.g., \"Writtenby:AndrewPeterson-editor,JonathanRogers,N.D.Wilson,\" `validity`\n",
    "    - There are no proper names in narrator, e.g., \"Narratedby:uncredited\". `completeness`\n",
    "\n",
    "\n",
    "- `time`:\n",
    "    - The values are combination of total hour and minutes, e.g., \"2 hrs and 20 mins\", \"10 hrs\", \"22 mins\" `validity`\n",
    "\n",
    "\n",
    "- `releasedate`:\n",
    "    - There are 2 types entries, \"08-04-2008\" and \"13-01-10\" `validity`\n",
    "    - The dtype is object, if we convert to datetime object, then the above will be resolved.`validity`\n",
    "\n",
    "\n",
    "- `language`\n",
    "    - [x] Some values are in title formed and some are in lower case, e.g. \"English\" and \"german\". `consistency`\n",
    "\n",
    "\n",
    "- `stars`\n",
    "    - Fill 0 or other name instead of \"Not rated yet\" `completeness`\n",
    "\n",
    "- `price`\n",
    "    - [x] There is a value, \"Free\". This also change the dtype of the column. `completeness`\n",
    "\n",
    "### `Messy Data`\n",
    "- `time`:\n",
    "    - Join hour and minute column in one sinlge minute column\n",
    "- `stars`\n",
    "    - separate \"5 out of 5 stars34 ratings\" into 5.5 in one column and in another one is 34"
   ]
  },
  {
   "cell_type": "markdown",
   "metadata": {},
   "source": [
    "### Data Cleaning Order\n",
    "\n",
    "1. Quality -> Completeness\n",
    "2. Tidiness (messy data)\n",
    "3. Quality -> Validity\n",
    "4. Quality -> Accuracy\n",
    "5. Quality -> Consistency"
   ]
  },
  {
   "cell_type": "code",
   "execution_count": 1,
   "metadata": {},
   "outputs": [],
   "source": [
    "import numpy as np\n",
    "import pandas as pd\n",
    "from unidecode import unidecode"
   ]
  },
  {
   "cell_type": "code",
   "execution_count": 2,
   "metadata": {},
   "outputs": [
    {
     "data": {
      "text/html": [
       "<div>\n",
       "<style scoped>\n",
       "    .dataframe tbody tr th:only-of-type {\n",
       "        vertical-align: middle;\n",
       "    }\n",
       "\n",
       "    .dataframe tbody tr th {\n",
       "        vertical-align: top;\n",
       "    }\n",
       "\n",
       "    .dataframe thead th {\n",
       "        text-align: right;\n",
       "    }\n",
       "</style>\n",
       "<table border=\"1\" class=\"dataframe\">\n",
       "  <thead>\n",
       "    <tr style=\"text-align: right;\">\n",
       "      <th></th>\n",
       "      <th>name</th>\n",
       "      <th>author</th>\n",
       "      <th>narrator</th>\n",
       "      <th>time</th>\n",
       "      <th>releasedate</th>\n",
       "      <th>language</th>\n",
       "      <th>stars</th>\n",
       "      <th>price</th>\n",
       "    </tr>\n",
       "  </thead>\n",
       "  <tbody>\n",
       "    <tr>\n",
       "      <th>0</th>\n",
       "      <td>Geronimo Stilton #11 &amp; #12</td>\n",
       "      <td>Writtenby:GeronimoStilton</td>\n",
       "      <td>Narratedby:BillLobely</td>\n",
       "      <td>2 hrs and 20 mins</td>\n",
       "      <td>08-04-2008</td>\n",
       "      <td>English</td>\n",
       "      <td>5 out of 5 stars34 ratings</td>\n",
       "      <td>468</td>\n",
       "    </tr>\n",
       "    <tr>\n",
       "      <th>1</th>\n",
       "      <td>The Burning Maze</td>\n",
       "      <td>Writtenby:RickRiordan</td>\n",
       "      <td>Narratedby:RobbieDaymond</td>\n",
       "      <td>13 hrs and 8 mins</td>\n",
       "      <td>05-01-2018</td>\n",
       "      <td>English</td>\n",
       "      <td>4.5 out of 5 stars41 ratings</td>\n",
       "      <td>820</td>\n",
       "    </tr>\n",
       "    <tr>\n",
       "      <th>2</th>\n",
       "      <td>The Deep End</td>\n",
       "      <td>Writtenby:JeffKinney</td>\n",
       "      <td>Narratedby:DanRussell</td>\n",
       "      <td>2 hrs and 3 mins</td>\n",
       "      <td>11-06-2020</td>\n",
       "      <td>English</td>\n",
       "      <td>4.5 out of 5 stars38 ratings</td>\n",
       "      <td>410</td>\n",
       "    </tr>\n",
       "    <tr>\n",
       "      <th>3</th>\n",
       "      <td>Daughter of the Deep</td>\n",
       "      <td>Writtenby:RickRiordan</td>\n",
       "      <td>Narratedby:SoneelaNankani</td>\n",
       "      <td>11 hrs and 16 mins</td>\n",
       "      <td>10-05-2021</td>\n",
       "      <td>English</td>\n",
       "      <td>4.5 out of 5 stars12 ratings</td>\n",
       "      <td>615</td>\n",
       "    </tr>\n",
       "    <tr>\n",
       "      <th>4</th>\n",
       "      <td>The Lightning Thief: Percy Jackson, Book 1</td>\n",
       "      <td>Writtenby:RickRiordan</td>\n",
       "      <td>Narratedby:JesseBernstein</td>\n",
       "      <td>10 hrs</td>\n",
       "      <td>13-01-2010</td>\n",
       "      <td>English</td>\n",
       "      <td>4.5 out of 5 stars181 ratings</td>\n",
       "      <td>820</td>\n",
       "    </tr>\n",
       "  </tbody>\n",
       "</table>\n",
       "</div>"
      ],
      "text/plain": [
       "                                         name                     author  \\\n",
       "0                  Geronimo Stilton #11 & #12  Writtenby:GeronimoStilton   \n",
       "1                            The Burning Maze      Writtenby:RickRiordan   \n",
       "2                                The Deep End       Writtenby:JeffKinney   \n",
       "3                        Daughter of the Deep      Writtenby:RickRiordan   \n",
       "4  The Lightning Thief: Percy Jackson, Book 1      Writtenby:RickRiordan   \n",
       "\n",
       "                    narrator                time releasedate language  \\\n",
       "0      Narratedby:BillLobely   2 hrs and 20 mins  08-04-2008  English   \n",
       "1   Narratedby:RobbieDaymond   13 hrs and 8 mins  05-01-2018  English   \n",
       "2      Narratedby:DanRussell    2 hrs and 3 mins  11-06-2020  English   \n",
       "3  Narratedby:SoneelaNankani  11 hrs and 16 mins  10-05-2021  English   \n",
       "4  Narratedby:JesseBernstein              10 hrs  13-01-2010  English   \n",
       "\n",
       "                           stars price  \n",
       "0     5 out of 5 stars34 ratings   468  \n",
       "1   4.5 out of 5 stars41 ratings   820  \n",
       "2   4.5 out of 5 stars38 ratings   410  \n",
       "3   4.5 out of 5 stars12 ratings   615  \n",
       "4  4.5 out of 5 stars181 ratings   820  "
      ]
     },
     "execution_count": 2,
     "metadata": {},
     "output_type": "execute_result"
    }
   ],
   "source": [
    "# you can read the dataset by upload the excel file; here I am using same file's link\n",
    "df = pd.read_csv(r\"D:\\CampMain\\DSMP 1.0\\2) Python\\3) Data analysis Process\\02) week 12\\01) Data Assessing and Cleaning\\audible\\audible_uncleaned(in).csv\")\n",
    "df.head()"
   ]
  },
  {
   "cell_type": "code",
   "execution_count": 3,
   "metadata": {},
   "outputs": [],
   "source": [
    "audible = df.copy()"
   ]
  },
  {
   "cell_type": "markdown",
   "metadata": {},
   "source": [
    "# Completeness"
   ]
  },
  {
   "cell_type": "code",
   "execution_count": 4,
   "metadata": {},
   "outputs": [
    {
     "data": {
      "text/plain": [
       "(87489, 8)"
      ]
     },
     "execution_count": 4,
     "metadata": {},
     "output_type": "execute_result"
    }
   ],
   "source": [
    "audible.shape"
   ]
  },
  {
   "cell_type": "code",
   "execution_count": 5,
   "metadata": {},
   "outputs": [
    {
     "data": {
      "text/html": [
       "<div>\n",
       "<style scoped>\n",
       "    .dataframe tbody tr th:only-of-type {\n",
       "        vertical-align: middle;\n",
       "    }\n",
       "\n",
       "    .dataframe tbody tr th {\n",
       "        vertical-align: top;\n",
       "    }\n",
       "\n",
       "    .dataframe thead th {\n",
       "        text-align: right;\n",
       "    }\n",
       "</style>\n",
       "<table border=\"1\" class=\"dataframe\">\n",
       "  <thead>\n",
       "    <tr style=\"text-align: right;\">\n",
       "      <th></th>\n",
       "      <th>feature</th>\n",
       "      <th>missing_percentage</th>\n",
       "    </tr>\n",
       "  </thead>\n",
       "  <tbody>\n",
       "  </tbody>\n",
       "</table>\n",
       "</div>"
      ],
      "text/plain": [
       "Empty DataFrame\n",
       "Columns: [feature, missing_percentage]\n",
       "Index: []"
      ]
     },
     "execution_count": 5,
     "metadata": {},
     "output_type": "execute_result"
    }
   ],
   "source": [
    "def check_missing(df):\n",
    "    X = (df.isnull().sum() / df.shape[0] * 100).sort_values(ascending=False).reset_index().rename(columns={'index':'feature',0:'missing_percentage'})\n",
    "    return X[X['missing_percentage']>0]\n",
    "\n",
    "check_missing(audible)"
   ]
  },
  {
   "cell_type": "code",
   "execution_count": 6,
   "metadata": {},
   "outputs": [
    {
     "name": "stdout",
     "output_type": "stream",
     "text": [
      "<class 'pandas.core.frame.DataFrame'>\n",
      "RangeIndex: 87489 entries, 0 to 87488\n",
      "Data columns (total 8 columns):\n",
      " #   Column       Non-Null Count  Dtype \n",
      "---  ------       --------------  ----- \n",
      " 0   name         87489 non-null  object\n",
      " 1   author       87489 non-null  object\n",
      " 2   narrator     87489 non-null  object\n",
      " 3   time         87489 non-null  object\n",
      " 4   releasedate  87489 non-null  object\n",
      " 5   language     87489 non-null  object\n",
      " 6   stars        87489 non-null  object\n",
      " 7   price        87489 non-null  object\n",
      "dtypes: object(8)\n",
      "memory usage: 5.3+ MB\n"
     ]
    }
   ],
   "source": [
    "audible.info()"
   ]
  },
  {
   "cell_type": "code",
   "execution_count": 10,
   "metadata": {},
   "outputs": [
    {
     "data": {
      "text/plain": [
       "array(['Free'], dtype=object)"
      ]
     },
     "execution_count": 10,
     "metadata": {},
     "output_type": "execute_result"
    }
   ],
   "source": [
    "audible['price'].apply(lambda x: x if x.isalpha() else np.nan).dropna(axis=0).unique()"
   ]
  },
  {
   "cell_type": "code",
   "execution_count": 12,
   "metadata": {},
   "outputs": [],
   "source": [
    "audible['price']=audible['price'].str.replace('Free','0').str.replace(',','').astype(float)"
   ]
  },
  {
   "cell_type": "code",
   "execution_count": 19,
   "metadata": {},
   "outputs": [],
   "source": [
    "audible['stars'] = audible['stars'].replace('Not rated yet',np.nan)"
   ]
  },
  {
   "cell_type": "markdown",
   "metadata": {},
   "source": [
    "# Tidiness"
   ]
  },
  {
   "cell_type": "code",
   "execution_count": 24,
   "metadata": {},
   "outputs": [],
   "source": [
    "audible['rating_stars'] = audible['stars'].str.extract('^([\\d.]+)').astype(float)\n",
    "audible['n_ratings'] = audible['stars'].str.replace(',', '').str.extract('(\\d+) rating').astype(float)\n",
    "audible.drop(columns=['stars'],inplace=True)"
   ]
  },
  {
   "cell_type": "code",
   "execution_count": 25,
   "metadata": {},
   "outputs": [
    {
     "data": {
      "text/html": [
       "<div>\n",
       "<style scoped>\n",
       "    .dataframe tbody tr th:only-of-type {\n",
       "        vertical-align: middle;\n",
       "    }\n",
       "\n",
       "    .dataframe tbody tr th {\n",
       "        vertical-align: top;\n",
       "    }\n",
       "\n",
       "    .dataframe thead th {\n",
       "        text-align: right;\n",
       "    }\n",
       "</style>\n",
       "<table border=\"1\" class=\"dataframe\">\n",
       "  <thead>\n",
       "    <tr style=\"text-align: right;\">\n",
       "      <th></th>\n",
       "      <th>feature</th>\n",
       "      <th>missing_percentage</th>\n",
       "    </tr>\n",
       "  </thead>\n",
       "  <tbody>\n",
       "    <tr>\n",
       "      <th>0</th>\n",
       "      <td>rating_stars</td>\n",
       "      <td>82.772691</td>\n",
       "    </tr>\n",
       "    <tr>\n",
       "      <th>1</th>\n",
       "      <td>n_ratings</td>\n",
       "      <td>82.772691</td>\n",
       "    </tr>\n",
       "  </tbody>\n",
       "</table>\n",
       "</div>"
      ],
      "text/plain": [
       "        feature  missing_percentage\n",
       "0  rating_stars           82.772691\n",
       "1     n_ratings           82.772691"
      ]
     },
     "execution_count": 25,
     "metadata": {},
     "output_type": "execute_result"
    }
   ],
   "source": [
    "check_missing(audible)"
   ]
  },
  {
   "cell_type": "markdown",
   "metadata": {},
   "source": [
    "- We could turn the NaN values to 0 or another numeric value, or we could keep them. It depends on our use case.\n",
    "\n",
    "- If we want to plot the ratings distribution, it can make sense to drop audiobooks with no ratings. But if we need to use the distribution of prices for our analysis, then removing audiobooks with no ratings will bias our results (since unrated audiobooks are likely more niche and might have a different pricing structure than rated audiobooks). We can use `missingIndicator` to impute the missing values."
   ]
  },
  {
   "cell_type": "markdown",
   "metadata": {},
   "source": [
    "# Validity"
   ]
  },
  {
   "cell_type": "markdown",
   "metadata": {},
   "source": [
    "## Define\n",
    "- Convert `releasedate` to datetime\n",
    "- fix `time` column"
   ]
  },
  {
   "cell_type": "code",
   "execution_count": 26,
   "metadata": {},
   "outputs": [
    {
     "data": {
      "text/plain": [
       "0    08-04-2008\n",
       "1    05-01-2018\n",
       "2    11-06-2020\n",
       "3    10-05-2021\n",
       "4    13-01-2010\n",
       "5      30-10-18\n",
       "6      25-11-14\n",
       "7    05-02-2017\n",
       "8    05-02-2017\n",
       "9      24-09-19\n",
       "Name: releasedate, dtype: object"
      ]
     },
     "execution_count": 26,
     "metadata": {},
     "output_type": "execute_result"
    }
   ],
   "source": [
    "audible['releasedate'].head(10)"
   ]
  },
  {
   "cell_type": "code",
   "execution_count": 136,
   "metadata": {},
   "outputs": [
    {
     "data": {
      "text/plain": [
       "0   2008-08-04\n",
       "1   2018-05-01\n",
       "2   2020-11-06\n",
       "3   2021-10-05\n",
       "4          NaT\n",
       "5          NaT\n",
       "6          NaT\n",
       "7   2017-05-02\n",
       "8   2017-05-02\n",
       "9          NaT\n",
       "Name: releasedate, dtype: datetime64[ns]"
      ]
     },
     "execution_count": 136,
     "metadata": {},
     "output_type": "execute_result"
    }
   ],
   "source": [
    "pd.to_datetime(audible['releasedate'], errors='coerce').head(10)"
   ]
  },
  {
   "cell_type": "code",
   "execution_count": 52,
   "metadata": {},
   "outputs": [],
   "source": [
    "import re\n",
    "previous_val = None\n",
    "def date_fix(x):\n",
    "    global previous_val\n",
    "    v = re.findall(r'(\\d+).(\\d+).(\\d+)', x)[0][-1]\n",
    "    if len(v) == 4:\n",
    "        previous_val = v\n",
    "        return x\n",
    "    else:\n",
    "        return x.replace(v, previous_val[:2]+v)"
   ]
  },
  {
   "cell_type": "code",
   "execution_count": 49,
   "metadata": {},
   "outputs": [
    {
     "data": {
      "text/plain": [
       "0    08-04-2008\n",
       "1    05-01-2018\n",
       "2    11-06-2020\n",
       "3    10-05-2021\n",
       "4    13-01-2010\n",
       "5    30-10-2018\n",
       "6    25-11-2014\n",
       "7    05-02-2017\n",
       "8    05-02-2017\n",
       "9    24-09-2019\n",
       "Name: releasedate, dtype: object"
      ]
     },
     "execution_count": 49,
     "metadata": {},
     "output_type": "execute_result"
    }
   ],
   "source": [
    "audible['releasedate'].apply(date_fix).head(10)"
   ]
  },
  {
   "cell_type": "code",
   "execution_count": 50,
   "metadata": {},
   "outputs": [
    {
     "data": {
      "text/plain": [
       "0   2008-08-04\n",
       "1   2018-05-01\n",
       "2   2020-11-06\n",
       "3   2021-10-05\n",
       "4   2010-01-13\n",
       "5   2018-10-30\n",
       "6   2014-11-25\n",
       "7   2017-05-02\n",
       "8   2017-05-02\n",
       "9   2019-09-24\n",
       "Name: releasedate, dtype: datetime64[ns]"
      ]
     },
     "execution_count": 50,
     "metadata": {},
     "output_type": "execute_result"
    }
   ],
   "source": [
    "pd.to_datetime(audible['releasedate'], format='mixed').head(10)"
   ]
  },
  {
   "cell_type": "code",
   "execution_count": 51,
   "metadata": {},
   "outputs": [],
   "source": [
    "audible['releasedate'] = pd.to_datetime(audible['releasedate'], format='mixed')"
   ]
  },
  {
   "cell_type": "code",
   "execution_count": 53,
   "metadata": {},
   "outputs": [
    {
     "data": {
      "text/plain": [
       "74020    13 hrs and 16 mins\n",
       "72811     5 hrs and 28 mins\n",
       "76132     6 hrs and 52 mins\n",
       "54166               30 mins\n",
       "3974                 6 mins\n",
       "80796     8 hrs and 49 mins\n",
       "18548     8 hrs and 38 mins\n",
       "15296               18 mins\n",
       "11171       9 hrs and 1 min\n",
       "75111     26 hrs and 4 mins\n",
       "Name: time, dtype: object"
      ]
     },
     "execution_count": 53,
     "metadata": {},
     "output_type": "execute_result"
    }
   ],
   "source": [
    "audible['time'].sample(10)"
   ]
  },
  {
   "cell_type": "code",
   "execution_count": 70,
   "metadata": {},
   "outputs": [],
   "source": [
    "def time_handler(x):\n",
    "    if 'and' in x:\n",
    "        hr = int(re.findall(r'(\\d+)\\shr', x)[0])  * 60\n",
    "        mint = int(re.findall(r'(\\d+)\\smin', x)[0])\n",
    "        return hr + mint\n",
    "    else:\n",
    "        return int(re.findall(r'(\\d+)\\smin', x)[0])"
   ]
  },
  {
   "cell_type": "code",
   "execution_count": 75,
   "metadata": {},
   "outputs": [],
   "source": [
    "hours=audible['time'].str.extract(r'(\\d+)\\shr').fillna(0).astype(int)\n",
    "minutes=audible['time'].str.extract(r'(\\d+)\\smin').fillna(0).astype(int)\n",
    "audible['time_mins']=hours*60+minutes\n",
    "audible.drop(columns=['time'], axis=1, inplace=True)"
   ]
  },
  {
   "cell_type": "code",
   "execution_count": 76,
   "metadata": {},
   "outputs": [
    {
     "data": {
      "text/plain": [
       "70"
      ]
     },
     "execution_count": 76,
     "metadata": {},
     "output_type": "execute_result"
    }
   ],
   "source": [
    "subset_cols=['name','author','narrator','time_mins','price']\n",
    "audible.duplicated(subset=subset_cols).sum()"
   ]
  },
  {
   "cell_type": "code",
   "execution_count": 77,
   "metadata": {},
   "outputs": [],
   "source": [
    "# Keep the record with the last release date.\n",
    "audible.drop_duplicates(subset=subset_cols,keep='last',inplace=True)"
   ]
  },
  {
   "cell_type": "code",
   "execution_count": 78,
   "metadata": {},
   "outputs": [],
   "source": [
    "# unidecode removes accents from the string meaning that it is easier to work with the string \n",
    "audible['name'] = audible['name'].apply(unidecode)\n",
    "audible['author'] = audible['author'].apply(unidecode)\n",
    "audible['narrator'] = audible['narrator'].apply(unidecode)"
   ]
  },
  {
   "cell_type": "markdown",
   "metadata": {},
   "source": [
    "# Accuracy"
   ]
  },
  {
   "cell_type": "code",
   "execution_count": 86,
   "metadata": {},
   "outputs": [],
   "source": [
    "audible['author']   = audible['author'].str.replace('Writtenby:','')\n",
    "audible['narrator'] = audible['narrator'].str.replace('Narratedby:','')"
   ]
  },
  {
   "cell_type": "markdown",
   "metadata": {},
   "source": [
    "# Consistency"
   ]
  },
  {
   "cell_type": "code",
   "execution_count": 87,
   "metadata": {},
   "outputs": [],
   "source": [
    "audible['language'] = audible['language'].str.capitalize()"
   ]
  },
  {
   "cell_type": "code",
   "execution_count": 89,
   "metadata": {},
   "outputs": [],
   "source": [
    "audible.drop(columns=['n_ratings'], inplace=True)"
   ]
  },
  {
   "cell_type": "code",
   "execution_count": 98,
   "metadata": {},
   "outputs": [],
   "source": [
    "audible['rating_indiactor'] = np.where(audible['rating_stars'].isnull(), 0, 1)"
   ]
  },
  {
   "cell_type": "code",
   "execution_count": 101,
   "metadata": {},
   "outputs": [],
   "source": [
    "audible.to_pickle('audible_cleaned.pkl')"
   ]
  }
 ],
 "metadata": {
  "kernelspec": {
   "display_name": "Python 3",
   "language": "python",
   "name": "python3"
  },
  "language_info": {
   "codemirror_mode": {
    "name": "ipython",
    "version": 3
   },
   "file_extension": ".py",
   "mimetype": "text/x-python",
   "name": "python",
   "nbconvert_exporter": "python",
   "pygments_lexer": "ipython3",
   "version": "3.10.9"
  }
 },
 "nbformat": 4,
 "nbformat_minor": 2
}
