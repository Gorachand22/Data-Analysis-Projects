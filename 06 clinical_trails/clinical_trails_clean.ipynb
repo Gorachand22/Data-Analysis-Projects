{
 "cells": [
  {
   "attachments": {
    "image.png": {
     "image/png": "[encoded data removed]"
    }
   },
   "cell_type": "markdown",
   "metadata": {},
   "source": [
    "![image.png](attachment:image.png)"
   ]
  },
  {
   "cell_type": "code",
   "execution_count": 1,
   "metadata": {},
   "outputs": [],
   "source": [
    "import pandas as pd\n",
    "import numpy as np"
   ]
  },
  {
   "cell_type": "code",
   "execution_count": 2,
   "metadata": {},
   "outputs": [],
   "source": [
    "patients = pd.read_csv(r\"D:\\CampMain\\DSMP 1.0\\2) Python\\3) Data analysis Process\\02) week 12\\01) Data Assessing and Cleaning\\06 clinical_trails\\data\\patients.csv\")\n",
    "treatments = pd.read_csv(r\"D:\\CampMain\\DSMP 1.0\\2) Python\\3) Data analysis Process\\02) week 12\\01) Data Assessing and Cleaning\\06 clinical_trails\\data\\treatments.csv\")\n",
    "adverse_reactions = pd.read_csv(r\"D:\\CampMain\\DSMP 1.0\\2) Python\\3) Data analysis Process\\02) week 12\\01) Data Assessing and Cleaning\\06 clinical_trails\\data\\adverse_reactions.csv\")\n",
    "treatments_cut = pd.read_csv(r\"D:\\CampMain\\DSMP 1.0\\2) Python\\3) Data analysis Process\\02) week 12\\01) Data Assessing and Cleaning\\06 clinical_trails\\data\\treatments_cut.csv\")"
   ]
  },
  {
   "cell_type": "code",
   "execution_count": 3,
   "metadata": {},
   "outputs": [],
   "source": [
    "patients_df = patients.copy()\n",
    "treatments_df = treatments.copy()\n",
    "treatments_cut_df = treatments_cut.copy()\n",
    "adverse_reactions_df = adverse_reactions.copy()"
   ]
  },
  {
   "cell_type": "markdown",
   "metadata": {},
   "source": [
    "# # completeness"
   ]
  },
  {
   "cell_type": "markdown",
   "metadata": {},
   "source": [
    "### Define\n",
    "\n",
    "- replace all missing values of patients df with no data\n",
    "- sub hba1c_start from hba1c_end to get all the change values\n",
    "- in patients table we will use regex to separate email and phone"
   ]
  },
  {
   "cell_type": "code",
   "execution_count": 4,
   "metadata": {},
   "outputs": [],
   "source": [
    "patients_df[['address', 'city', 'state', 'zip_code', 'country', 'contact']] = patients_df[['address', 'city', 'state', 'zip_code', 'country', 'contact']].fillna(\"No Data\")"
   ]
  },
  {
   "cell_type": "code",
   "execution_count": 5,
   "metadata": {},
   "outputs": [],
   "source": [
    "# code\n",
    "treatments_df['hba1c_change'] = treatments_df['hba1c_start'] - treatments_df['hba1c_end']\n",
    "treatments_cut_df['hba1c_change'] = treatments_cut_df['hba1c_start'] - treatments_cut_df['hba1c_end']"
   ]
  },
  {
   "cell_type": "code",
   "execution_count": 6,
   "metadata": {},
   "outputs": [
    {
     "data": {
      "text/plain": [
       "0"
      ]
     },
     "execution_count": 6,
     "metadata": {},
     "output_type": "execute_result"
    }
   ],
   "source": [
    "treatments_df['hba1c_change'].isnull().sum()"
   ]
  },
  {
   "cell_type": "markdown",
   "metadata": {},
   "source": [
    "# Tidiness"
   ]
  },
  {
   "cell_type": "markdown",
   "metadata": {},
   "source": [
    "##Define\n",
    "\n",
    "- separate email and phone number\n",
    "- conact treatments_df and treatments_cut_df\n",
    "- make a column type by using auralin and novadra\n",
    "- make two separate columns for start dose and end dose from dosage_range\n",
    "- perform left join on treatments_df and adverse_reactions_df"
   ]
  },
  {
   "cell_type": "code",
   "execution_count": 7,
   "metadata": {},
   "outputs": [
    {
     "data": {
      "text/html": [
       "<div>\n",
       "<style scoped>\n",
       "    .dataframe tbody tr th:only-of-type {\n",
       "        vertical-align: middle;\n",
       "    }\n",
       "\n",
       "    .dataframe tbody tr th {\n",
       "        vertical-align: top;\n",
       "    }\n",
       "\n",
       "    .dataframe thead th {\n",
       "        text-align: right;\n",
       "    }\n",
       "</style>\n",
       "<table border=\"1\" class=\"dataframe\">\n",
       "  <thead>\n",
       "    <tr style=\"text-align: right;\">\n",
       "      <th></th>\n",
       "      <th>patient_id</th>\n",
       "      <th>assigned_sex</th>\n",
       "      <th>given_name</th>\n",
       "      <th>surname</th>\n",
       "      <th>address</th>\n",
       "      <th>city</th>\n",
       "      <th>state</th>\n",
       "      <th>zip_code</th>\n",
       "      <th>country</th>\n",
       "      <th>birthdate</th>\n",
       "      <th>weight</th>\n",
       "      <th>height</th>\n",
       "      <th>bmi</th>\n",
       "      <th>phone_number</th>\n",
       "      <th>email</th>\n",
       "    </tr>\n",
       "  </thead>\n",
       "  <tbody>\n",
       "    <tr>\n",
       "      <th>0</th>\n",
       "      <td>1</td>\n",
       "      <td>female</td>\n",
       "      <td>Zoe</td>\n",
       "      <td>Wellish</td>\n",
       "      <td>576 Brown Bear Drive</td>\n",
       "      <td>Rancho California</td>\n",
       "      <td>California</td>\n",
       "      <td>92390.0</td>\n",
       "      <td>United States</td>\n",
       "      <td>7/10/1976</td>\n",
       "      <td>121.7</td>\n",
       "      <td>66</td>\n",
       "      <td>19.6</td>\n",
       "      <td>951-719-9170</td>\n",
       "      <td>ZoeWellish@superrito.com</td>\n",
       "    </tr>\n",
       "    <tr>\n",
       "      <th>1</th>\n",
       "      <td>2</td>\n",
       "      <td>female</td>\n",
       "      <td>Pamela</td>\n",
       "      <td>Hill</td>\n",
       "      <td>2370 University Hill Road</td>\n",
       "      <td>Armstrong</td>\n",
       "      <td>Illinois</td>\n",
       "      <td>61812.0</td>\n",
       "      <td>United States</td>\n",
       "      <td>4/3/1967</td>\n",
       "      <td>118.8</td>\n",
       "      <td>66</td>\n",
       "      <td>19.2</td>\n",
       "      <td>+1 (217) 569-3204</td>\n",
       "      <td>PamelaSHill@cuvox.de</td>\n",
       "    </tr>\n",
       "    <tr>\n",
       "      <th>2</th>\n",
       "      <td>3</td>\n",
       "      <td>male</td>\n",
       "      <td>Jae</td>\n",
       "      <td>Debord</td>\n",
       "      <td>1493 Poling Farm Road</td>\n",
       "      <td>York</td>\n",
       "      <td>Nebraska</td>\n",
       "      <td>68467.0</td>\n",
       "      <td>United States</td>\n",
       "      <td>2/19/1980</td>\n",
       "      <td>177.8</td>\n",
       "      <td>71</td>\n",
       "      <td>24.8</td>\n",
       "      <td>402-363-6804</td>\n",
       "      <td>JaeMDebord@gustr.com</td>\n",
       "    </tr>\n",
       "    <tr>\n",
       "      <th>3</th>\n",
       "      <td>4</td>\n",
       "      <td>male</td>\n",
       "      <td>Liêm</td>\n",
       "      <td>Phan</td>\n",
       "      <td>2335 Webster Street</td>\n",
       "      <td>Woodbridge</td>\n",
       "      <td>NJ</td>\n",
       "      <td>7095.0</td>\n",
       "      <td>United States</td>\n",
       "      <td>7/26/1951</td>\n",
       "      <td>220.9</td>\n",
       "      <td>70</td>\n",
       "      <td>31.7</td>\n",
       "      <td>+1 (732) 636-8246</td>\n",
       "      <td>PhanBaLiem@jourrapide.com</td>\n",
       "    </tr>\n",
       "    <tr>\n",
       "      <th>4</th>\n",
       "      <td>5</td>\n",
       "      <td>male</td>\n",
       "      <td>Tim</td>\n",
       "      <td>Neudorf</td>\n",
       "      <td>1428 Turkey Pen Lane</td>\n",
       "      <td>Dothan</td>\n",
       "      <td>AL</td>\n",
       "      <td>36303.0</td>\n",
       "      <td>United States</td>\n",
       "      <td>2/18/1928</td>\n",
       "      <td>192.3</td>\n",
       "      <td>27</td>\n",
       "      <td>26.1</td>\n",
       "      <td>334-515-7487</td>\n",
       "      <td>TimNeudorf@cuvox.de</td>\n",
       "    </tr>\n",
       "  </tbody>\n",
       "</table>\n",
       "</div>"
      ],
      "text/plain": [
       "   patient_id assigned_sex given_name  surname                    address  \\\n",
       "0           1       female        Zoe  Wellish       576 Brown Bear Drive   \n",
       "1           2       female     Pamela     Hill  2370 University Hill Road   \n",
       "2           3         male        Jae   Debord      1493 Poling Farm Road   \n",
       "3           4         male       Liêm     Phan        2335 Webster Street   \n",
       "4           5         male        Tim  Neudorf       1428 Turkey Pen Lane   \n",
       "\n",
       "                city       state zip_code        country  birthdate  weight  \\\n",
       "0  Rancho California  California  92390.0  United States  7/10/1976   121.7   \n",
       "1          Armstrong    Illinois  61812.0  United States   4/3/1967   118.8   \n",
       "2               York    Nebraska  68467.0  United States  2/19/1980   177.8   \n",
       "3         Woodbridge          NJ   7095.0  United States  7/26/1951   220.9   \n",
       "4             Dothan          AL  36303.0  United States  2/18/1928   192.3   \n",
       "\n",
       "   height   bmi       phone_number                      email  \n",
       "0      66  19.6       951-719-9170   ZoeWellish@superrito.com  \n",
       "1      66  19.2  +1 (217) 569-3204       PamelaSHill@cuvox.de  \n",
       "2      71  24.8       402-363-6804       JaeMDebord@gustr.com  \n",
       "3      70  31.7  +1 (732) 636-8246  PhanBaLiem@jourrapide.com  \n",
       "4      27  26.1       334-515-7487        TimNeudorf@cuvox.de  "
      ]
     },
     "execution_count": 7,
     "metadata": {},
     "output_type": "execute_result"
    }
   ],
   "source": [
    "# Extract phone numbers\n",
    "patients_df['phone_number'] = patients_df['contact'].str.extract((r'(\\+\\d{1,2}\\s?\\(\\d{3}\\)\\s?\\d{3}-\\d{4}|\\d{3}-\\d{3}-\\d{4}|\\d\\s\\d{3}\\s\\d{3}\\s\\d{4}|\\d{10})'))\n",
    "\n",
    "# Extract email addresses\n",
    "patients_df['email'] = patients_df['contact'].str.extract(r'([a-zA-Z._%+-]+@[a-zA-Z0-9.-]+\\.[a-zA-Z]{2,})')\n",
    "\n",
    "# Drop the original contact column\n",
    "patients_df.drop(columns=['contact'], inplace=True)\n",
    "\n",
    "# Display the updated DataFrame\n",
    "patients_df.head()"
   ]
  },
  {
   "cell_type": "code",
   "execution_count": 52,
   "metadata": {},
   "outputs": [
    {
     "data": {
      "text/plain": [
       "((280, 7), (70, 7))"
      ]
     },
     "execution_count": 52,
     "metadata": {},
     "output_type": "execute_result"
    }
   ],
   "source": [
    "treatments_df.shape, treatments_cut_df.shape"
   ]
  },
  {
   "cell_type": "code",
   "execution_count": 8,
   "metadata": {},
   "outputs": [
    {
     "data": {
      "text/plain": [
       "(350, 7)"
      ]
     },
     "execution_count": 8,
     "metadata": {},
     "output_type": "execute_result"
    }
   ],
   "source": [
    "treatments_df = pd.concat([treatments_df,treatments_cut_df], ignore_index=True, axis=0)\n",
    "\n",
    "treatments_df.shape"
   ]
  },
  {
   "cell_type": "code",
   "execution_count": 9,
   "metadata": {},
   "outputs": [],
   "source": [
    "treatments_df = treatments_df.melt(id_vars=['given_name', 'surname' ,'hba1c_start', 'hba1c_end','hba1c_change'],var_name='type',value_name='dosage_range')\n",
    "\n",
    "treatments_df = treatments_df[treatments_df['dosage_range'] != '-'].reset_index(drop=True)"
   ]
  },
  {
   "cell_type": "code",
   "execution_count": 10,
   "metadata": {},
   "outputs": [],
   "source": [
    "treatments_df['dosage_start'] = treatments_df['dosage_range'].apply(lambda x: x.split('-')[0].strip().rstrip('u'))\n",
    "treatments_df['dosage_end'] = treatments_df['dosage_range'].apply(lambda x: x.split('-')[1].strip().rstrip('u'))"
   ]
  },
  {
   "cell_type": "code",
   "execution_count": 11,
   "metadata": {},
   "outputs": [],
   "source": [
    "# drop the original column\n",
    "treatments_df.drop(columns='dosage_range',inplace=True)"
   ]
  },
  {
   "cell_type": "code",
   "execution_count": 12,
   "metadata": {},
   "outputs": [],
   "source": [
    "# change dosage_start dtype to int\n",
    "treatments_df['dosage_start'] = treatments_df['dosage_start'].astype(int)\n",
    "treatments_df['dosage_end'] = treatments_df['dosage_end'].astype(int)"
   ]
  },
  {
   "cell_type": "code",
   "execution_count": 13,
   "metadata": {},
   "outputs": [],
   "source": [
    "treatments_df = treatments_df.merge(adverse_reactions_df, how ='left', on=['given_name','surname'])"
   ]
  },
  {
   "cell_type": "markdown",
   "metadata": {},
   "source": [
    "# Validity"
   ]
  },
  {
   "cell_type": "markdown",
   "metadata": {},
   "source": [
    "## Define\n",
    "\n",
    "- convert zip code to string\n",
    "- apply zfill() only to rows that contain numeric ZIP codes\n",
    "- add inplace of No Data '00000' or '99999' to zip code\n",
    "\n",
    "- convert assigned_sex to category dtype\n",
    "- convert birthdate to datetime dtype\n",
    "\n",
    "- remove duplicate entries by the given_name and surname from patients_df\n",
    "- patient_id = 9 has misspelled name 'Dsvid' instead of David\n",
    "- remove duplicate entries by the given_name and surname from treatments_df"
   ]
  },
  {
   "cell_type": "code",
   "execution_count": 16,
   "metadata": {},
   "outputs": [],
   "source": [
    "patients_df.loc[patients_df['zip_code'].isin(['No Data', '99999']), 'zip_code'] = '00000'"
   ]
  },
  {
   "cell_type": "code",
   "execution_count": 17,
   "metadata": {},
   "outputs": [],
   "source": [
    "# Convert zip_code to string type\n",
    "patients_df['zip_code'] = patients_df['zip_code'].astype(str).apply(lambda x: x[:-2] if '.' in x else x)\n",
    "\n",
    "# Apply zfill() only to rows that contain numeric ZIP codes\n",
    "patients_df['zip_code'] = patients_df['zip_code'].apply(lambda x: x.zfill(5) if x.isdigit() else x)\n",
    "\n",
    "# add inplace of No Data '00000' or '99999' to zip code\n",
    "patients_df.loc[patients_df['zip_code'].isin(['No Data', '99999']), 'zip_code'] = '00000'"
   ]
  },
  {
   "cell_type": "markdown",
   "metadata": {},
   "source": [
    "The `object dtype` is a catch-all for columns that can contain any Python object but are not of a specific numeric or datetime type. Columns with the object dtype can store strings of varying lengths and may contain mixed types of data.\n",
    "\n",
    "Categorical data is often used to represent variables that have a finite number of distinct categories or levels. By converting a column to the category dtype, you can potentially save memory and improve performance, especially if the column has a relatively small number of unique values and is frequently used for analysis or visualization."
   ]
  },
  {
   "cell_type": "code",
   "execution_count": 18,
   "metadata": {},
   "outputs": [],
   "source": [
    "# Convert assigned_sex to category dtype\n",
    "patients_df['assigned_sex'] = patients_df['assigned_sex'].astype('category')"
   ]
  },
  {
   "cell_type": "code",
   "execution_count": 19,
   "metadata": {},
   "outputs": [],
   "source": [
    "# Convert birthdate to datetime dtype\n",
    "patients_df['birthdate'] = pd.to_datetime(patients_df['birthdate'])"
   ]
  },
  {
   "cell_type": "code",
   "execution_count": 20,
   "metadata": {},
   "outputs": [
    {
     "data": {
      "text/plain": [
       "8    Dsvid\n",
       "Name: given_name, dtype: object"
      ]
     },
     "execution_count": 20,
     "metadata": {},
     "output_type": "execute_result"
    }
   ],
   "source": [
    "patients_df.loc[patients_df['patient_id'] == 9, 'given_name']"
   ]
  },
  {
   "cell_type": "markdown",
   "metadata": {},
   "source": [
    "# consistency"
   ]
  },
  {
   "cell_type": "markdown",
   "metadata": {},
   "source": [
    "## Define\n",
    "- state col sometimes contain full name and some times abbrivietation in patients_df\n",
    "- given_name and surname col is is all lower case in treatments_df, make it Title case"
   ]
  },
  {
   "cell_type": "code",
   "execution_count": 21,
   "metadata": {},
   "outputs": [
    {
     "name": "stdout",
     "output_type": "stream",
     "text": [
      "{'A': ['AL', 'AZ', 'AK', 'AR'],\n",
      " 'C': ['California', 'CA', 'CO', 'CT'],\n",
      " 'D': ['DE', 'DC'],\n",
      " 'F': ['Florida', 'FL'],\n",
      " 'G': ['GA'],\n",
      " 'I': ['Illinois', 'IL', 'IA', 'IN', 'ID'],\n",
      " 'K': ['KY', 'KS'],\n",
      " 'L': ['LA'],\n",
      " 'M': ['MO', 'MI', 'MT', 'MA', 'ME', 'MN', 'MD', 'MS'],\n",
      " 'N': ['Nebraska',\n",
      "       'NJ',\n",
      "       'NV',\n",
      "       'New York',\n",
      "       'NY',\n",
      "       'NM',\n",
      "       'NC',\n",
      "       'NE',\n",
      "       'ND',\n",
      "       'NH',\n",
      "       'No Data'],\n",
      " 'O': ['OK', 'OH', 'OR'],\n",
      " 'P': ['PA'],\n",
      " 'R': ['RI'],\n",
      " 'S': ['SD', 'SC'],\n",
      " 'T': ['TN', 'TX'],\n",
      " 'V': ['VA', 'VT'],\n",
      " 'W': ['WI', 'WY', 'WA', 'WV']}\n"
     ]
    }
   ],
   "source": [
    "import pprint\n",
    "state_list = patients_df['state'].unique().tolist()\n",
    "\n",
    "Dict = {}\n",
    "for state in state_list:\n",
    "    if state[0] in Dict.keys():\n",
    "        Dict[state[0]].append(state)\n",
    "    else:\n",
    "        Dict[state[0]] = [state]\n",
    "\n",
    "pprint.pprint(Dict)"
   ]
  },
  {
   "cell_type": "code",
   "execution_count": 22,
   "metadata": {},
   "outputs": [],
   "source": [
    "Replace = {'California':'CA', 'New York':'NY', 'Illinois':'IL', 'Florida':'FL', 'Nebraska':'NE'}\n",
    "\n",
    "patients_df['state'] = patients_df['state'].replace(Replace)"
   ]
  },
  {
   "cell_type": "code",
   "execution_count": 23,
   "metadata": {},
   "outputs": [],
   "source": [
    "# Title case\n",
    "treatments_df['given_name'] = treatments_df['given_name'].str.title()\n",
    "treatments_df['surname'] = treatments_df['surname'].str.title()"
   ]
  },
  {
   "cell_type": "markdown",
   "metadata": {},
   "source": [
    "# Accuracy"
   ]
  },
  {
   "cell_type": "markdown",
   "metadata": {},
   "source": [
    "### Define\n",
    "- Dsvid is misspelled in patients_df\n",
    "- remove duplicate entries by the given_name and surname\n",
    "- one patient has weight = 48 pounds\n",
    "- one patient has height = 27 inches and 79 inches"
   ]
  },
  {
   "cell_type": "code",
   "execution_count": 24,
   "metadata": {},
   "outputs": [],
   "source": [
    "# patient_id = 9 has misspelled name 'Dsvid' instead of David\n",
    "patients_df.loc[patients_df['patient_id'] == 9, 'given_name'] = 'David'"
   ]
  },
  {
   "cell_type": "code",
   "execution_count": 25,
   "metadata": {},
   "outputs": [],
   "source": [
    "# remove duplicate entries by the given_name and surname\n",
    "patients_df.drop_duplicates(subset=['given_name', 'surname'], keep='first', inplace=True)\n",
    "treatments_df.drop_duplicates(subset=['given_name', 'surname'], keep='first', inplace=True)"
   ]
  },
  {
   "cell_type": "code",
   "execution_count": 26,
   "metadata": {},
   "outputs": [
    {
     "name": "stdout",
     "output_type": "stream",
     "text": [
      "Outlier values:\n",
      "4      27\n",
      "418    79\n",
      "Name: height, dtype: int64\n",
      "\n",
      "210    48.8\n",
      "Name: weight, dtype: float64\n"
     ]
    }
   ],
   "source": [
    "def find_outliers(column):\n",
    "    # Calculate the first quartile (Q1)\n",
    "    Q1 = column.quantile(0.25)\n",
    "    # Calculate the third quartile (Q3)\n",
    "    Q3 = column.quantile(0.75)\n",
    "    # Calculate the interquartile range (IQR)\n",
    "    IQR = Q3 - Q1\n",
    "    # Define the lower and upper bounds\n",
    "    lower_bound = Q1 - 1.5 * IQR\n",
    "    upper_bound = Q3 + 1.5 * IQR\n",
    "    # Find outliers\n",
    "    outliers = column[(column < lower_bound) | (column > upper_bound)]\n",
    "    return outliers\n",
    "\n",
    "# Example usage:\n",
    "height_outliers = find_outliers(patients_df['height'])\n",
    "weight_outliers = find_outliers(patients_df['weight'])\n",
    "print(\"Outlier values:\")\n",
    "print(height_outliers)\n",
    "print()\n",
    "print(weight_outliers)"
   ]
  },
  {
   "cell_type": "code",
   "execution_count": 72,
   "metadata": {},
   "outputs": [
    {
     "data": {
      "text/html": [
       "<div>\n",
       "<style scoped>\n",
       "    .dataframe tbody tr th:only-of-type {\n",
       "        vertical-align: middle;\n",
       "    }\n",
       "\n",
       "    .dataframe tbody tr th {\n",
       "        vertical-align: top;\n",
       "    }\n",
       "\n",
       "    .dataframe thead th {\n",
       "        text-align: right;\n",
       "    }\n",
       "</style>\n",
       "<table border=\"1\" class=\"dataframe\">\n",
       "  <thead>\n",
       "    <tr style=\"text-align: right;\">\n",
       "      <th></th>\n",
       "      <th>patient_id</th>\n",
       "      <th>assigned_sex</th>\n",
       "      <th>given_name</th>\n",
       "      <th>surname</th>\n",
       "      <th>address</th>\n",
       "      <th>city</th>\n",
       "      <th>state</th>\n",
       "      <th>zip_code</th>\n",
       "      <th>country</th>\n",
       "      <th>birthdate</th>\n",
       "      <th>weight</th>\n",
       "      <th>height</th>\n",
       "      <th>bmi</th>\n",
       "      <th>phone_number</th>\n",
       "      <th>email</th>\n",
       "    </tr>\n",
       "  </thead>\n",
       "  <tbody>\n",
       "    <tr>\n",
       "      <th>4</th>\n",
       "      <td>5</td>\n",
       "      <td>male</td>\n",
       "      <td>Tim</td>\n",
       "      <td>Neudorf</td>\n",
       "      <td>1428 Turkey Pen Lane</td>\n",
       "      <td>Dothan</td>\n",
       "      <td>AL</td>\n",
       "      <td>36303</td>\n",
       "      <td>United States</td>\n",
       "      <td>1928-02-18</td>\n",
       "      <td>192.3</td>\n",
       "      <td>27</td>\n",
       "      <td>26.1</td>\n",
       "      <td>334-515-7487</td>\n",
       "      <td>TimNeudorf@cuvox.de</td>\n",
       "    </tr>\n",
       "    <tr>\n",
       "      <th>418</th>\n",
       "      <td>419</td>\n",
       "      <td>male</td>\n",
       "      <td>Mahmud</td>\n",
       "      <td>Kadyrov</td>\n",
       "      <td>3390 Hidden Meadow Drive</td>\n",
       "      <td>Stanton</td>\n",
       "      <td>ND</td>\n",
       "      <td>58571</td>\n",
       "      <td>United States</td>\n",
       "      <td>1980-06-18</td>\n",
       "      <td>215.2</td>\n",
       "      <td>79</td>\n",
       "      <td>24.2</td>\n",
       "      <td>1 701 745 2700</td>\n",
       "      <td>MahmudKadyrov@gustr.com</td>\n",
       "    </tr>\n",
       "  </tbody>\n",
       "</table>\n",
       "</div>"
      ],
      "text/plain": [
       "     patient_id assigned_sex given_name  surname                   address  \\\n",
       "4             5         male        Tim  Neudorf      1428 Turkey Pen Lane   \n",
       "418         419         male     Mahmud  Kadyrov  3390 Hidden Meadow Drive   \n",
       "\n",
       "        city state zip_code        country  birthdate  weight  height   bmi  \\\n",
       "4     Dothan    AL    36303  United States 1928-02-18   192.3      27  26.1   \n",
       "418  Stanton    ND    58571  United States 1980-06-18   215.2      79  24.2   \n",
       "\n",
       "       phone_number                    email  \n",
       "4      334-515-7487      TimNeudorf@cuvox.de  \n",
       "418  1 701 745 2700  MahmudKadyrov@gustr.com  "
      ]
     },
     "execution_count": 72,
     "metadata": {},
     "output_type": "execute_result"
    }
   ],
   "source": [
    "patients_df[patients_df['height'].isin(height_outliers)]"
   ]
  },
  {
   "cell_type": "code",
   "execution_count": 27,
   "metadata": {},
   "outputs": [
    {
     "name": "stdout",
     "output_type": "stream",
     "text": [
      "Height in inches: 71.97279442384996\n"
     ]
    }
   ],
   "source": [
    "import math\n",
    "def find_height(BMI , weight_lbs):\n",
    "    # Convert weight from pounds to kilograms\n",
    "    weight_kg = weight_lbs * 0.453592  # 1 pound = 0.453592 kilograms\n",
    "\n",
    "    # Calculate height in meters\n",
    "    height_m = math.sqrt(weight_kg / BMI)\n",
    "\n",
    "    # Convert height from meters to inches\n",
    "    height_in = height_m / 0.0254  # 1 inch = 0.0254 meters\n",
    "\n",
    "    print(\"Height in inches:\", height_in)\n",
    "\n",
    "\n",
    "find_height(26.1, 192.3)\n",
    "# This is incorrect"
   ]
  },
  {
   "cell_type": "code",
   "execution_count": 28,
   "metadata": {},
   "outputs": [],
   "source": [
    "# replace 71 \n",
    "\n",
    "patients_df.loc[patients_df['patient_id'] == 5, 'height'] = 71"
   ]
  },
  {
   "cell_type": "code",
   "execution_count": 29,
   "metadata": {},
   "outputs": [
    {
     "name": "stdout",
     "output_type": "stream",
     "text": [
      "Height in inches: 79.07012530494485\n"
     ]
    }
   ],
   "source": [
    "find_height(24.2, 215.2)\n",
    "# This is correct"
   ]
  },
  {
   "cell_type": "markdown",
   "metadata": {},
   "source": [
    "bmi = kg/ m^2"
   ]
  },
  {
   "cell_type": "code",
   "execution_count": 30,
   "metadata": {},
   "outputs": [
    {
     "data": {
      "text/html": [
       "<div>\n",
       "<style scoped>\n",
       "    .dataframe tbody tr th:only-of-type {\n",
       "        vertical-align: middle;\n",
       "    }\n",
       "\n",
       "    .dataframe tbody tr th {\n",
       "        vertical-align: top;\n",
       "    }\n",
       "\n",
       "    .dataframe thead th {\n",
       "        text-align: right;\n",
       "    }\n",
       "</style>\n",
       "<table border=\"1\" class=\"dataframe\">\n",
       "  <thead>\n",
       "    <tr style=\"text-align: right;\">\n",
       "      <th></th>\n",
       "      <th>patient_id</th>\n",
       "      <th>assigned_sex</th>\n",
       "      <th>given_name</th>\n",
       "      <th>surname</th>\n",
       "      <th>address</th>\n",
       "      <th>city</th>\n",
       "      <th>state</th>\n",
       "      <th>zip_code</th>\n",
       "      <th>country</th>\n",
       "      <th>birthdate</th>\n",
       "      <th>weight</th>\n",
       "      <th>height</th>\n",
       "      <th>bmi</th>\n",
       "      <th>phone_number</th>\n",
       "      <th>email</th>\n",
       "    </tr>\n",
       "  </thead>\n",
       "  <tbody>\n",
       "    <tr>\n",
       "      <th>210</th>\n",
       "      <td>211</td>\n",
       "      <td>female</td>\n",
       "      <td>Camilla</td>\n",
       "      <td>Zaitseva</td>\n",
       "      <td>4689 Briarhill Lane</td>\n",
       "      <td>Wooster</td>\n",
       "      <td>OH</td>\n",
       "      <td>44691</td>\n",
       "      <td>United States</td>\n",
       "      <td>1938-11-26</td>\n",
       "      <td>48.8</td>\n",
       "      <td>63</td>\n",
       "      <td>19.1</td>\n",
       "      <td>330-202-2145</td>\n",
       "      <td>CamillaZaitseva@superrito.com</td>\n",
       "    </tr>\n",
       "  </tbody>\n",
       "</table>\n",
       "</div>"
      ],
      "text/plain": [
       "     patient_id assigned_sex given_name   surname              address  \\\n",
       "210         211       female    Camilla  Zaitseva  4689 Briarhill Lane   \n",
       "\n",
       "        city state zip_code        country  birthdate  weight  height   bmi  \\\n",
       "210  Wooster    OH    44691  United States 1938-11-26    48.8      63  19.1   \n",
       "\n",
       "     phone_number                          email  \n",
       "210  330-202-2145  CamillaZaitseva@superrito.com  "
      ]
     },
     "execution_count": 30,
     "metadata": {},
     "output_type": "execute_result"
    }
   ],
   "source": [
    "patients_df[patients_df['weight'].isin(weight_outliers)]"
   ]
  },
  {
   "cell_type": "code",
   "execution_count": 31,
   "metadata": {},
   "outputs": [
    {
     "name": "stdout",
     "output_type": "stream",
     "text": [
      "Weight in pounds: 107.82426666255137\n"
     ]
    }
   ],
   "source": [
    "def find_weight(BMI , height_in):\n",
    "\n",
    "    # Convert height from inches to meters\n",
    "    height_m = height_in * 0.0254  # 1 inch = 0.0254 meters\n",
    "\n",
    "    # Calculate weight in kilograms\n",
    "    weight_kg = BMI * (height_m ** 2)\n",
    "\n",
    "    # Convert weight from kilograms to pounds\n",
    "    weight_lbs = weight_kg / 0.453592  # 1 pound = 0.453592 kilograms\n",
    "\n",
    "    print(\"Weight in pounds:\", weight_lbs)\n",
    "\n",
    "find_weight(19.1 , 63)"
   ]
  },
  {
   "cell_type": "code",
   "execution_count": 32,
   "metadata": {},
   "outputs": [],
   "source": [
    "# replace 107.82\n",
    "\n",
    "patients_df.loc[patients_df['patient_id'] == 211, 'weight'] = 107.82"
   ]
  },
  {
   "cell_type": "code",
   "execution_count": 33,
   "metadata": {},
   "outputs": [
    {
     "name": "stdout",
     "output_type": "stream",
     "text": [
      "Outlier values:\n",
      "Series([], Name: height, dtype: int64)\n",
      "\n",
      "Series([], Name: weight, dtype: float64)\n"
     ]
    }
   ],
   "source": [
    "def find_outliers(column):\n",
    "    # Calculate the first quartile (Q1)\n",
    "    Q1 = column.quantile(0.25)\n",
    "    # Calculate the third quartile (Q3)\n",
    "    Q3 = column.quantile(0.75)\n",
    "    # Calculate the interquartile range (IQR)\n",
    "    IQR = Q3 - Q1\n",
    "    # Define the lower and upper bounds\n",
    "    lower_bound = Q1 - 1.5 * IQR\n",
    "    upper_bound = Q3 + 1.5 * IQR\n",
    "    # Find outliers\n",
    "    outliers = column[(column < lower_bound) | (column > upper_bound)]\n",
    "    return outliers\n",
    "\n",
    "# Example usage:\n",
    "height_outliers = find_outliers(patients_df['height'])\n",
    "weight_outliers = find_outliers(patients_df['weight'])\n",
    "print(\"Outlier values:\")\n",
    "print(height_outliers)\n",
    "print()\n",
    "print(weight_outliers)"
   ]
  },
  {
   "cell_type": "code",
   "execution_count": 34,
   "metadata": {},
   "outputs": [
    {
     "data": {
      "text/plain": [
       "patient_id      False\n",
       "assigned_sex    False\n",
       "given_name      False\n",
       "surname         False\n",
       "address          True\n",
       "city             True\n",
       "state            True\n",
       "zip_code         True\n",
       "country          True\n",
       "birthdate       False\n",
       "weight          False\n",
       "height          False\n",
       "bmi             False\n",
       "phone_number    False\n",
       "email           False\n",
       "dtype: bool"
      ]
     },
     "execution_count": 34,
     "metadata": {},
     "output_type": "execute_result"
    }
   ],
   "source": [
    "# check 'No Data' match in any column\n",
    "patients_df.isin(['No Data', '99999', '00000']).any(axis=0)"
   ]
  },
  {
   "cell_type": "code",
   "execution_count": 35,
   "metadata": {},
   "outputs": [],
   "source": [
    "patients_df.reset_index(drop=True, inplace=True)"
   ]
  },
  {
   "cell_type": "code",
   "execution_count": 36,
   "metadata": {},
   "outputs": [],
   "source": [
    "Id = [30, 283, 503]\n",
    "\n",
    "Index = patients_df[patients_df['patient_id'].isin(Id)].index\n",
    "patients_df.drop(Index, inplace=True)"
   ]
  },
  {
   "cell_type": "code",
   "execution_count": 37,
   "metadata": {},
   "outputs": [],
   "source": [
    "patients_df.reset_index(drop=True, inplace=True)"
   ]
  },
  {
   "cell_type": "code",
   "execution_count": 38,
   "metadata": {},
   "outputs": [],
   "source": [
    "# rename the column name weight and height\n",
    "patients_df.rename(columns={'weight':'weight_lbs', 'height':'height_in'}, inplace=True)"
   ]
  },
  {
   "cell_type": "code",
   "execution_count": 39,
   "metadata": {},
   "outputs": [],
   "source": [
    "data = patients_df.copy()"
   ]
  },
  {
   "cell_type": "code",
   "execution_count": 47,
   "metadata": {},
   "outputs": [],
   "source": [
    "data = data.merge(treatments_df, how ='left', on=['given_name','surname'])"
   ]
  },
  {
   "cell_type": "code",
   "execution_count": 49,
   "metadata": {},
   "outputs": [],
   "source": [
    "data.reset_index(drop=True, inplace=True)"
   ]
  },
  {
   "cell_type": "code",
   "execution_count": 51,
   "metadata": {},
   "outputs": [],
   "source": [
    "data.drop(data[data['type'].isnull()].index, inplace=True)\n",
    "data.reset_index(drop=True, inplace=True)"
   ]
  },
  {
   "cell_type": "code",
   "execution_count": 53,
   "metadata": {},
   "outputs": [
    {
     "data": {
      "text/plain": [
       "(344, 22)"
      ]
     },
     "execution_count": 53,
     "metadata": {},
     "output_type": "execute_result"
    }
   ],
   "source": [
    "data.shape"
   ]
  },
  {
   "cell_type": "code",
   "execution_count": 59,
   "metadata": {},
   "outputs": [],
   "source": [
    "data['adverse_reaction'].fillna('Other', inplace=True)"
   ]
  },
  {
   "cell_type": "code",
   "execution_count": 60,
   "metadata": {},
   "outputs": [],
   "source": [
    "import pickle\n",
    "\n",
    "with open('clinical_trials.pickle', 'wb') as f:\n",
    "    pickle.dump(data, f)"
   ]
  }
 ],
 "metadata": {
  "kernelspec": {
   "display_name": "Python 3",
   "language": "python",
   "name": "python3"
  },
  "language_info": {
   "codemirror_mode": {
    "name": "ipython",
    "version": 3
   },
   "file_extension": ".py",
   "mimetype": "text/x-python",
   "name": "python",
   "nbconvert_exporter": "python",
   "pygments_lexer": "ipython3",
   "version": "3.10.9"
  }
 },
 "nbformat": 4,
 "nbformat_minor": 2
}
